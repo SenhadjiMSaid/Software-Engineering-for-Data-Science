{
 "cells": [
  {
   "cell_type": "markdown",
   "metadata": {},
   "source": [
    "<figure>\n",
    "  <IMG src=\"figures/logo-esi-sba.png\" WIDTH=300 height=\"100\" ALIGN=\"right\">\n",
    "</figure>\n",
    "\n",
    "# Practical Trainining Series on Software Engineering For Data Science  \n",
    "*By Dr. Belkacem KHALDI (b.khaldi@esi-sba.dz)*"
   ]
  },
  {
   "cell_type": "markdown",
   "metadata": {
    "slideshow": {
     "slide_type": "slide"
    }
   },
   "source": [
    "# Notebook 11: Web Development for Data Science: Building DS App with Streamlit (Part III)\n",
    "\n",
    "\n",
    "The purpose of this [Jupyter Notebook] is to getting you familairized with  Building Data Science Apps with Streamlit"
   ]
  },
  {
   "cell_type": "markdown",
   "metadata": {},
   "source": [
    "#  Streamlit Hands-On\n",
    "\n",
    "Create a comprehensive, interactive Streamlit application that provides deep insights into Bitcoin price data Challenge seen in Lab 5  through advanced visualization and EDA analysis techniques.\n",
    "\n",
    "### 🔍 Challenge Specifications\n",
    "\n",
    "#### Dashboard Components (Mandatory (40 Points))\n",
    "1. **Dynamic Data Loading**\n",
    "   - Fetch real-time Bitcoin price data\n",
    "   - Allow custom date range selection\n",
    "\n",
    "2. **Analysis Modules**\n",
    "   - Descriptive statistics\n",
    "\n",
    "3. **Interactive Visualizations**\n",
    "   - Price trend analysis\n",
    "   - Advanced statistical visualizations\n",
    "\n",
    "#### Machine Learning Model Implementation (Additional 30 points)\n",
    "- A Simple Machine learning prediction Model Impelementation\n",
    "\n",
    "### 🚀 Key Development Requirements\n",
    "\n",
    "1. **Data Management**\n",
    "   - Implement robust data loading mechanism\n",
    "   - Handle potential data retrieval errors\n",
    "   - Preprocess Bitcoin data\n",
    "\n",
    "2. **Interactive Components**\n",
    "   - Create dynamic date range selectors\n",
    "   - Develop multiple analysis type options\n",
    "   - Implement tabbed interface for different insights\n",
    "\n",
    "3. **Visualization Techniques**\n",
    "   - Use Plotly for interactive charts\n",
    "   - Create multiple visualization types\n",
    "   - Implement correlation and trend analysis\n"
   ]
  },
  {
   "cell_type": "code",
   "execution_count": 1,
   "metadata": {},
   "outputs": [
    {
     "name": "stderr",
     "output_type": "stream",
     "text": [
      "[*********************100%***********************]  1 of 1 completed\n"
     ]
    },
    {
     "data": {
      "text/html": [
       "<div>\n",
       "<style scoped>\n",
       "    .dataframe tbody tr th:only-of-type {\n",
       "        vertical-align: middle;\n",
       "    }\n",
       "\n",
       "    .dataframe tbody tr th {\n",
       "        vertical-align: top;\n",
       "    }\n",
       "\n",
       "    .dataframe thead tr th {\n",
       "        text-align: left;\n",
       "    }\n",
       "\n",
       "    .dataframe thead tr:last-of-type th {\n",
       "        text-align: right;\n",
       "    }\n",
       "</style>\n",
       "<table border=\"1\" class=\"dataframe\">\n",
       "  <thead>\n",
       "    <tr>\n",
       "      <th>Price</th>\n",
       "      <th>Adj Close</th>\n",
       "      <th>Close</th>\n",
       "      <th>High</th>\n",
       "      <th>Low</th>\n",
       "      <th>Open</th>\n",
       "      <th>Volume</th>\n",
       "    </tr>\n",
       "    <tr>\n",
       "      <th>Ticker</th>\n",
       "      <th>BTC-USD</th>\n",
       "      <th>BTC-USD</th>\n",
       "      <th>BTC-USD</th>\n",
       "      <th>BTC-USD</th>\n",
       "      <th>BTC-USD</th>\n",
       "      <th>BTC-USD</th>\n",
       "    </tr>\n",
       "    <tr>\n",
       "      <th>Date</th>\n",
       "      <th></th>\n",
       "      <th></th>\n",
       "      <th></th>\n",
       "      <th></th>\n",
       "      <th></th>\n",
       "      <th></th>\n",
       "    </tr>\n",
       "  </thead>\n",
       "  <tbody>\n",
       "    <tr>\n",
       "      <th>2020-11-28</th>\n",
       "      <td>17717.414062</td>\n",
       "      <td>17717.414062</td>\n",
       "      <td>17853.939453</td>\n",
       "      <td>16910.652344</td>\n",
       "      <td>17112.933594</td>\n",
       "      <td>32601040734</td>\n",
       "    </tr>\n",
       "    <tr>\n",
       "      <th>2020-11-29</th>\n",
       "      <td>18177.484375</td>\n",
       "      <td>18177.484375</td>\n",
       "      <td>18283.628906</td>\n",
       "      <td>17559.117188</td>\n",
       "      <td>17719.634766</td>\n",
       "      <td>31133957704</td>\n",
       "    </tr>\n",
       "    <tr>\n",
       "      <th>2020-11-30</th>\n",
       "      <td>19625.835938</td>\n",
       "      <td>19625.835938</td>\n",
       "      <td>19749.263672</td>\n",
       "      <td>18178.322266</td>\n",
       "      <td>18178.322266</td>\n",
       "      <td>47728480399</td>\n",
       "    </tr>\n",
       "    <tr>\n",
       "      <th>2020-12-01</th>\n",
       "      <td>18802.998047</td>\n",
       "      <td>18802.998047</td>\n",
       "      <td>19845.974609</td>\n",
       "      <td>18321.921875</td>\n",
       "      <td>19633.769531</td>\n",
       "      <td>49633658712</td>\n",
       "    </tr>\n",
       "    <tr>\n",
       "      <th>2020-12-02</th>\n",
       "      <td>19201.091797</td>\n",
       "      <td>19201.091797</td>\n",
       "      <td>19308.330078</td>\n",
       "      <td>18347.718750</td>\n",
       "      <td>18801.744141</td>\n",
       "      <td>37387697139</td>\n",
       "    </tr>\n",
       "  </tbody>\n",
       "</table>\n",
       "</div>"
      ],
      "text/plain": [
       "Price          Adj Close         Close          High           Low  \\\n",
       "Ticker           BTC-USD       BTC-USD       BTC-USD       BTC-USD   \n",
       "Date                                                                 \n",
       "2020-11-28  17717.414062  17717.414062  17853.939453  16910.652344   \n",
       "2020-11-29  18177.484375  18177.484375  18283.628906  17559.117188   \n",
       "2020-11-30  19625.835938  19625.835938  19749.263672  18178.322266   \n",
       "2020-12-01  18802.998047  18802.998047  19845.974609  18321.921875   \n",
       "2020-12-02  19201.091797  19201.091797  19308.330078  18347.718750   \n",
       "\n",
       "Price               Open       Volume  \n",
       "Ticker           BTC-USD      BTC-USD  \n",
       "Date                                   \n",
       "2020-11-28  17112.933594  32601040734  \n",
       "2020-11-29  17719.634766  31133957704  \n",
       "2020-11-30  18178.322266  47728480399  \n",
       "2020-12-01  19633.769531  49633658712  \n",
       "2020-12-02  18801.744141  37387697139  "
      ]
     },
     "execution_count": 1,
     "metadata": {},
     "output_type": "execute_result"
    }
   ],
   "source": [
    "import yfinance as yf\n",
    "\n",
    "btc_yf_df = yf.download('BTC-USD', start='2020-11-28', end='2022-10-31', interval='1d')\n",
    "\n",
    "btc_yf_df.head()"
   ]
  },
  {
   "cell_type": "code",
   "execution_count": 5,
   "metadata": {},
   "outputs": [],
   "source": [
    "data= btc_yf_df\n"
   ]
  },
  {
   "cell_type": "code",
   "execution_count": 8,
   "metadata": {},
   "outputs": [],
   "source": [
    "min_price = data[\"Close\"].min()\n",
    "max_price = data[\"Close\"].max()\n",
    "avg_price = data[\"Close\"].mean()"
   ]
  },
  {
   "cell_type": "code",
   "execution_count": 6,
   "metadata": {},
   "outputs": [
    {
     "data": {
      "text/plain": [
       "Ticker\n",
       "BTC-USD    17717.414062\n",
       "dtype: float64"
      ]
     },
     "execution_count": 6,
     "metadata": {},
     "output_type": "execute_result"
    }
   ],
   "source": [
    "min_price"
   ]
  },
  {
   "cell_type": "code",
   "execution_count": 11,
   "metadata": {},
   "outputs": [
    {
     "data": {
      "text/plain": [
       "Ticker\n",
       "BTC-USD    49849.414062\n",
       "dtype: float64"
      ]
     },
     "execution_count": 11,
     "metadata": {},
     "output_type": "execute_result"
    }
   ],
   "source": [
    "price_range = max_price - min_price\n",
    "price_range"
   ]
  },
  {
   "cell_type": "code",
   "execution_count": 12,
   "metadata": {},
   "outputs": [],
   "source": [
    "def display_filters(data):\n",
    "    # st.subheader(\"Filter Data\")\n",
    "\n",
    "    # Date range filter\n",
    "    # date_range = st.slider(\n",
    "    #     \"Select Date Range\",\n",
    "    #     min_value=data.index.min().date(),\n",
    "    #     max_value=data.index.max().date(),\n",
    "    #     value=(data.index.min().date(), data.index.max().date()),\n",
    "    # )\n",
    "    filtered_data = data.loc[\"2020-11-28\" : \"2020-12-28\"]\n",
    "\n",
    "    # Price filter\n",
    "    # price_range = st.slider(\n",
    "    #     \"Select Close Price Range\",\n",
    "    #     min_value=float(data[\"Close\"].min()),\n",
    "    #     max_value=float(data[\"Close\"].max()),\n",
    "    #     value=(float(data[\"Close\"].min()), float(data[\"Close\"].max())),\n",
    "    # )\n",
    "    filtered_data = filtered_data[\n",
    "        (filtered_data[\"Close\"] >= 17717.414062)\n",
    "        & (filtered_data[\"Close\"] <= 19919.414062)\n",
    "    ]\n",
    "\n",
    "    # st.write(f\"Filtered Data ({len(filtered_data)} records):\")\n",
    "    # st.dataframe(filtered_data)\n",
    "    return filtered_data"
   ]
  },
  {
   "cell_type": "code",
   "execution_count": 17,
   "metadata": {},
   "outputs": [
    {
     "data": {
      "text/plain": [
       "datetime.date(2020, 12, 8)"
      ]
     },
     "execution_count": 17,
     "metadata": {},
     "output_type": "execute_result"
    }
   ],
   "source": [
    "filtered_data = display_filters(data)\n",
    "filtered_data[\"Daily Change\"] = filtered_data[\"Close\"] - filtered_data[\"Open\"]\n",
    "max_change_date = filtered_data[\"Daily Change\"].idxmax()\n",
    "min_change_date = filtered_data[\"Daily Change\"].idxmin()\n",
    "min_change_date.date()"
   ]
  }
 ],
 "metadata": {
  "anaconda-cloud": {},
  "kernelspec": {
   "display_name": "labDS_env",
   "language": "python",
   "name": "python3"
  },
  "language_info": {
   "codemirror_mode": {
    "name": "ipython",
    "version": 3
   },
   "file_extension": ".py",
   "mimetype": "text/x-python",
   "name": "python",
   "nbconvert_exporter": "python",
   "pygments_lexer": "ipython3",
   "version": "3.8.20"
  }
 },
 "nbformat": 4,
 "nbformat_minor": 2
}
