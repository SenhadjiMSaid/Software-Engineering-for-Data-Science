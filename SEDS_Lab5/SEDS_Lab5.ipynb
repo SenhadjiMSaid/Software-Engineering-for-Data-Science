{
 "cells": [
  {
   "cell_type": "markdown",
   "metadata": {},
   "source": [
    "<figure>\n",
    "  <IMG src=\"figures/logo-esi-sba.png\" WIDTH=300 height=\"100\" ALIGN=\"right\">\n",
    "</figure>\n",
    "\n",
    "# Practical Trainining Series on Software Engineering For Data Science  \n",
    "*By Dr. Belkacem KHALDI (b.khaldi@esi-sba.dz)*"
   ]
  },
  {
   "cell_type": "markdown",
   "metadata": {
    "slideshow": {
     "slide_type": "slide"
    }
   },
   "source": [
    "# Notebook 5: Data Processing & Cleaning for Data Science: Data Ingestion and Wrangling with Pandas\n",
    "\n",
    "The purpose of this [Jupyter Notebook] is to getting you introduced to the Data Processing & Cleaning for Data\n",
    "Science: Data Ingestion and Wrangling with Pandas. It provides a set of practical Training challenges that allow grasping the different concepts presented in the lecture 5."
   ]
  },
  {
   "cell_type": "code",
   "execution_count": 3,
   "metadata": {},
   "outputs": [],
   "source": [
    "import sqlite3 \n",
    "import pandas as pd\n",
    "import matplotlib.pyplot as plt"
   ]
  },
  {
   "cell_type": "markdown",
   "metadata": {},
   "source": [
    "## Challenge 1\n",
    "1. Connect to the `chinook.db` sqlite3 database available in the folder data.\n",
    "2. Find the genre names with the longest average song length.\n",
    "\n",
    "`Hint:`\n",
    "join the tables with the genre name and song length and use the SQLite aggregate\n",
    "function for the average along with a GROUP BY clause.\n"
   ]
  },
  {
   "cell_type": "code",
   "execution_count": 4,
   "metadata": {},
   "outputs": [
    {
     "name": "stdout",
     "output_type": "stream",
     "text": [
      "Genre: Sci Fi & Fantasy, Average Song Length (ms): 2911783.0384615385\n",
      "Genre: Science Fiction, Average Song Length (ms): 2625549.076923077\n",
      "Genre: Drama, Average Song Length (ms): 2575283.78125\n",
      "Genre: TV Shows, Average Song Length (ms): 2145041.0215053763\n",
      "Genre: Comedy, Average Song Length (ms): 1585263.705882353\n",
      "Genre: Metal, Average Song Length (ms): 309749.4438502674\n",
      "Genre: Electronica/Dance, Average Song Length (ms): 302985.8\n",
      "Genre: Heavy Metal, Average Song Length (ms): 297452.9285714286\n",
      "Genre: Classical, Average Song Length (ms): 293867.5675675676\n",
      "Genre: Jazz, Average Song Length (ms): 291755.3769230769\n",
      "Genre: Rock, Average Song Length (ms): 283910.0431765613\n",
      "Genre: Blues, Average Song Length (ms): 270359.77777777775\n",
      "Genre: Alternative, Average Song Length (ms): 264058.525\n",
      "Genre: Reggae, Average Song Length (ms): 247177.75862068965\n",
      "Genre: Soundtrack, Average Song Length (ms): 244370.88372093023\n",
      "Genre: Alternative & Punk, Average Song Length (ms): 234353.84939759035\n",
      "Genre: Latin, Average Song Length (ms): 232859.26252158894\n",
      "Genre: Pop, Average Song Length (ms): 229034.10416666666\n",
      "Genre: World, Average Song Length (ms): 224923.82142857142\n",
      "Genre: R&B/Soul, Average Song Length (ms): 220066.8524590164\n",
      "Genre: Bossa Nova, Average Song Length (ms): 219590.0\n",
      "Genre: Easy Listening, Average Song Length (ms): 189164.20833333334\n",
      "Genre: Hip Hop/Rap, Average Song Length (ms): 178176.2857142857\n",
      "Genre: Opera, Average Song Length (ms): 174813.0\n",
      "Genre: Rock And Roll, Average Song Length (ms): 134643.5\n"
     ]
    }
   ],
   "source": [
    "connection = sqlite3.connect(r'data\\chinook.db')\n",
    "cursor = connection.cursor()\n",
    "\n",
    "query = \"\"\"\n",
    "    SELECT genres.Name AS GenreName, AVG(tracks.Milliseconds) AS AvgSongLength\n",
    "    FROM tracks\n",
    "    JOIN genres ON tracks.GenreId = genres.GenreId\n",
    "    GROUP BY genres.Name\n",
    "    ORDER BY AvgSongLength DESC;\n",
    "\"\"\"\n",
    "\n",
    "cursor.execute(query)\n",
    "results = cursor.fetchall()\n",
    "for row in results:\n",
    "    print(f\"Genre: {row[0]}, Average Song Length (ms): {row[1]}\")\n",
    "    \n",
    "connection.close()"
   ]
  },
  {
   "cell_type": "markdown",
   "metadata": {},
   "source": [
    "## Challenge 2: Ingesting, Wrangling and Analyzing  iTune data\n",
    "\n",
    "You've started a new data science position at the iTune department at Apple Company. \n",
    "The department wants to build, test, and evaluate new machine learning recommendation song models using a different source of data: in Excel file, in a csv file, and in the chinook.db SQLite database. They want you proceed with the data ingsestion and data wrangling procedures to provide a clean dataset to be used later for their machine learning based recommendation songs models.  \n",
    "\n",
    "1. They particlarly asked you to load, clean, and analyze, and then deliver your results to the executive team and president.\n",
    "You should deliver a small summary of your EDA work from pandas and save your cleaned and prepared data as a new Excel file. The data files are `chinook_data.xlsx`, `chinook_data.csv`, and `chinook.db` on the data folder existed within this notebook.\n",
    "\n",
    "`Hint:`\n",
    "1. Follow the procedures in Lecture 5 - Slides: 13-17 - For data ingestion (Data loading from different sources).\n",
    "\n",
    "2. Follow and test the procedures in Lecture 5 - Slides:18-22 - For Basic Exploratory Data Analysis (EDA).\n",
    "\n",
    "3. Follow and test the procedures in Lecture 5 - Slides:23-27 - For Basic Data Cleaning Operations.\n",
    "\n",
    "4. To save your cleaned dataset in an excel file use the pandas built-in method: `pandas.DataFrame.to_excel`.\n"
   ]
  },
  {
   "cell_type": "markdown",
   "metadata": {},
   "source": [
    "### data ingestion (Data loading from different sources)."
   ]
  },
  {
   "cell_type": "code",
   "execution_count": 5,
   "metadata": {},
   "outputs": [
    {
     "data": {
      "text/html": [
       "<div>\n",
       "<style scoped>\n",
       "    .dataframe tbody tr th:only-of-type {\n",
       "        vertical-align: middle;\n",
       "    }\n",
       "\n",
       "    .dataframe tbody tr th {\n",
       "        vertical-align: top;\n",
       "    }\n",
       "\n",
       "    .dataframe thead th {\n",
       "        text-align: right;\n",
       "    }\n",
       "</style>\n",
       "<table border=\"1\" class=\"dataframe\">\n",
       "  <thead>\n",
       "    <tr style=\"text-align: right;\">\n",
       "      <th></th>\n",
       "      <th>Track</th>\n",
       "      <th>Composer</th>\n",
       "      <th>Milliseconds</th>\n",
       "      <th>Bytes</th>\n",
       "      <th>UnitPrice</th>\n",
       "      <th>Genre</th>\n",
       "      <th>Album</th>\n",
       "      <th>Artist</th>\n",
       "    </tr>\n",
       "  </thead>\n",
       "  <tbody>\n",
       "    <tr>\n",
       "      <th>0</th>\n",
       "      <td>All the Best Cowboys Have Daddy Issues</td>\n",
       "      <td>NaN</td>\n",
       "      <td>2555492.0</td>\n",
       "      <td>211743651.0</td>\n",
       "      <td>1.99</td>\n",
       "      <td>TV Shows</td>\n",
       "      <td>Lost, Season 1</td>\n",
       "      <td>Lost</td>\n",
       "    </tr>\n",
       "    <tr>\n",
       "      <th>1</th>\n",
       "      <td>Beira Mar</td>\n",
       "      <td>Gilberto Gil</td>\n",
       "      <td>295444.0</td>\n",
       "      <td>9597994.0</td>\n",
       "      <td>0.99</td>\n",
       "      <td>Latin</td>\n",
       "      <td>Unplugged</td>\n",
       "      <td>Eric Clapton</td>\n",
       "    </tr>\n",
       "    <tr>\n",
       "      <th>2</th>\n",
       "      <td>Brasil</td>\n",
       "      <td>Milton Nascimento, Fernando Brant</td>\n",
       "      <td>155428.0</td>\n",
       "      <td>5252560.0</td>\n",
       "      <td>0.99</td>\n",
       "      <td>Latin</td>\n",
       "      <td>Milton Nascimento Ao Vivo</td>\n",
       "      <td>Milton Nascimento</td>\n",
       "    </tr>\n",
       "    <tr>\n",
       "      <th>3</th>\n",
       "      <td>Ben Franklin</td>\n",
       "      <td>NaN</td>\n",
       "      <td>1271938.0</td>\n",
       "      <td>264168080.0</td>\n",
       "      <td>1.99</td>\n",
       "      <td>Comedy</td>\n",
       "      <td>The Office, Season 3</td>\n",
       "      <td>The Office</td>\n",
       "    </tr>\n",
       "    <tr>\n",
       "      <th>4</th>\n",
       "      <td>O Último Romântico (Ao Vivo)</td>\n",
       "      <td>NaN</td>\n",
       "      <td>231993.0</td>\n",
       "      <td>7692697.0</td>\n",
       "      <td>0.99</td>\n",
       "      <td>Latin</td>\n",
       "      <td>Lulu Santos - RCA 100 Anos De Música - Álbum 02</td>\n",
       "      <td>Lulu Santos</td>\n",
       "    </tr>\n",
       "  </tbody>\n",
       "</table>\n",
       "</div>"
      ],
      "text/plain": [
       "                                    Track                           Composer  \\\n",
       "0  All the Best Cowboys Have Daddy Issues                                NaN   \n",
       "1                               Beira Mar                       Gilberto Gil   \n",
       "2                                  Brasil  Milton Nascimento, Fernando Brant   \n",
       "3                            Ben Franklin                                NaN   \n",
       "4            O Último Romântico (Ao Vivo)                                NaN   \n",
       "\n",
       "   Milliseconds        Bytes  UnitPrice     Genre  \\\n",
       "0     2555492.0  211743651.0       1.99  TV Shows   \n",
       "1      295444.0    9597994.0       0.99     Latin   \n",
       "2      155428.0    5252560.0       0.99     Latin   \n",
       "3     1271938.0  264168080.0       1.99    Comedy   \n",
       "4      231993.0    7692697.0       0.99     Latin   \n",
       "\n",
       "                                             Album             Artist  \n",
       "0                                   Lost, Season 1               Lost  \n",
       "1                                        Unplugged       Eric Clapton  \n",
       "2                        Milton Nascimento Ao Vivo  Milton Nascimento  \n",
       "3                             The Office, Season 3         The Office  \n",
       "4  Lulu Santos - RCA 100 Anos De Música - Álbum 02        Lulu Santos  "
      ]
     },
     "execution_count": 5,
     "metadata": {},
     "output_type": "execute_result"
    }
   ],
   "source": [
    "excel_df = pd.read_excel('data/chinook_data.xlsx')\n",
    "csv_df = pd.read_csv('data/chinook_data.csv')\n",
    "connection = sqlite3.connect('data/chinook.db')\n",
    "cursor = connection.cursor()\n",
    "query = \"\"\"\n",
    "SELECT \n",
    "t.name as Track,\n",
    "t.composer,\n",
    "t.unitprice,\n",
    "g.name as Genre,\n",
    "a.title as Album,\n",
    "r.name as Artist\n",
    "FROM tracks t\n",
    "JOIN genres g ON t.genreid = g.genreid\n",
    "JOIN albums a ON t.albumid = a.albumid\n",
    "JOIN artists r ON a.artistid = r.artistid;\n",
    "\"\"\"\n",
    "sql_df = pd.read_sql(query, connection)\n",
    "itunes_df = pd.concat([csv_df, excel_df, sql_df])\n",
    "itunes_df.head()"
   ]
  },
  {
   "cell_type": "markdown",
   "metadata": {},
   "source": [
    "### Basic Exploratory Data Analysis (EDA)."
   ]
  },
  {
   "cell_type": "code",
   "execution_count": 6,
   "metadata": {},
   "outputs": [
    {
     "data": {
      "text/plain": [
       "(4021, 8)"
      ]
     },
     "execution_count": 6,
     "metadata": {},
     "output_type": "execute_result"
    }
   ],
   "source": [
    "itunes_df.shape"
   ]
  },
  {
   "cell_type": "code",
   "execution_count": 7,
   "metadata": {},
   "outputs": [
    {
     "name": "stdout",
     "output_type": "stream",
     "text": [
      "<class 'pandas.core.frame.DataFrame'>\n",
      "Index: 4021 entries, 0 to 3502\n",
      "Data columns (total 8 columns):\n",
      " #   Column        Non-Null Count  Dtype  \n",
      "---  ------        --------------  -----  \n",
      " 0   Track         4021 non-null   object \n",
      " 1   Composer      2908 non-null   object \n",
      " 2   Milliseconds  518 non-null    float64\n",
      " 3   Bytes         518 non-null    float64\n",
      " 4   UnitPrice     4021 non-null   float64\n",
      " 5   Genre         4021 non-null   object \n",
      " 6   Album         4021 non-null   object \n",
      " 7   Artist        4021 non-null   object \n",
      "dtypes: float64(3), object(5)\n",
      "memory usage: 282.7+ KB\n"
     ]
    }
   ],
   "source": [
    "itunes_df.info()"
   ]
  },
  {
   "cell_type": "code",
   "execution_count": 8,
   "metadata": {},
   "outputs": [
    {
     "data": {
      "text/plain": [
       "Track              0\n",
       "Composer        1113\n",
       "Milliseconds    3503\n",
       "Bytes           3503\n",
       "UnitPrice          0\n",
       "Genre              0\n",
       "Album              0\n",
       "Artist             0\n",
       "dtype: int64"
      ]
     },
     "execution_count": 8,
     "metadata": {},
     "output_type": "execute_result"
    }
   ],
   "source": [
    "itunes_df.isna().sum()"
   ]
  },
  {
   "cell_type": "code",
   "execution_count": 9,
   "metadata": {},
   "outputs": [
    {
     "data": {
      "text/html": [
       "<div>\n",
       "<style scoped>\n",
       "    .dataframe tbody tr th:only-of-type {\n",
       "        vertical-align: middle;\n",
       "    }\n",
       "\n",
       "    .dataframe tbody tr th {\n",
       "        vertical-align: top;\n",
       "    }\n",
       "\n",
       "    .dataframe thead th {\n",
       "        text-align: right;\n",
       "    }\n",
       "</style>\n",
       "<table border=\"1\" class=\"dataframe\">\n",
       "  <thead>\n",
       "    <tr style=\"text-align: right;\">\n",
       "      <th></th>\n",
       "      <th>Milliseconds</th>\n",
       "      <th>Bytes</th>\n",
       "      <th>UnitPrice</th>\n",
       "    </tr>\n",
       "  </thead>\n",
       "  <tbody>\n",
       "    <tr>\n",
       "      <th>count</th>\n",
       "      <td>5.180000e+02</td>\n",
       "      <td>5.180000e+02</td>\n",
       "      <td>4021.000000</td>\n",
       "    </tr>\n",
       "    <tr>\n",
       "      <th>mean</th>\n",
       "      <td>3.868336e+05</td>\n",
       "      <td>3.040734e+07</td>\n",
       "      <td>1.050184</td>\n",
       "    </tr>\n",
       "    <tr>\n",
       "      <th>std</th>\n",
       "      <td>5.258469e+05</td>\n",
       "      <td>9.602387e+07</td>\n",
       "      <td>0.237857</td>\n",
       "    </tr>\n",
       "    <tr>\n",
       "      <th>min</th>\n",
       "      <td>4.884000e+03</td>\n",
       "      <td>1.612660e+05</td>\n",
       "      <td>0.990000</td>\n",
       "    </tr>\n",
       "    <tr>\n",
       "      <th>25%</th>\n",
       "      <td>2.049758e+05</td>\n",
       "      <td>6.493416e+06</td>\n",
       "      <td>0.990000</td>\n",
       "    </tr>\n",
       "    <tr>\n",
       "      <th>50%</th>\n",
       "      <td>2.526950e+05</td>\n",
       "      <td>8.098298e+06</td>\n",
       "      <td>0.990000</td>\n",
       "    </tr>\n",
       "    <tr>\n",
       "      <th>75%</th>\n",
       "      <td>3.225330e+05</td>\n",
       "      <td>1.010645e+07</td>\n",
       "      <td>0.990000</td>\n",
       "    </tr>\n",
       "    <tr>\n",
       "      <th>max</th>\n",
       "      <td>2.935894e+06</td>\n",
       "      <td>5.701522e+08</td>\n",
       "      <td>1.990000</td>\n",
       "    </tr>\n",
       "  </tbody>\n",
       "</table>\n",
       "</div>"
      ],
      "text/plain": [
       "       Milliseconds         Bytes    UnitPrice\n",
       "count  5.180000e+02  5.180000e+02  4021.000000\n",
       "mean   3.868336e+05  3.040734e+07     1.050184\n",
       "std    5.258469e+05  9.602387e+07     0.237857\n",
       "min    4.884000e+03  1.612660e+05     0.990000\n",
       "25%    2.049758e+05  6.493416e+06     0.990000\n",
       "50%    2.526950e+05  8.098298e+06     0.990000\n",
       "75%    3.225330e+05  1.010645e+07     0.990000\n",
       "max    2.935894e+06  5.701522e+08     1.990000"
      ]
     },
     "execution_count": 9,
     "metadata": {},
     "output_type": "execute_result"
    }
   ],
   "source": [
    "itunes_df.describe()"
   ]
  },
  {
   "cell_type": "code",
   "execution_count": 10,
   "metadata": {},
   "outputs": [
    {
     "data": {
      "image/png": "[encoded data removed]",
      "text/plain": [
       "<Figure size 640x480 with 1 Axes>"
      ]
     },
     "metadata": {},
     "output_type": "display_data"
    }
   ],
   "source": [
    "itunes_df[\"Milliseconds\"].hist()\n",
    "plt.show()"
   ]
  },
  {
   "cell_type": "code",
   "execution_count": 11,
   "metadata": {},
   "outputs": [
    {
     "data": {
      "image/png": "[encoded data removed]",
      "text/plain": [
       "<Figure size 640x480 with 1 Axes>"
      ]
     },
     "metadata": {},
     "output_type": "display_data"
    }
   ],
   "source": [
    "itunes_df['Genre'].value_counts().plot.bar()\n",
    "plt.show()"
   ]
  },
  {
   "cell_type": "markdown",
   "metadata": {},
   "source": [
    "### Basic Data Cleaning Operations."
   ]
  },
  {
   "cell_type": "code",
   "execution_count": 12,
   "metadata": {},
   "outputs": [],
   "source": [
    "only_music = itunes_df[~itunes_df['Genre'].isin(['Drama', 'TV Shows', 'SciFi & Fantasy', 'Science Fiction', 'Comedy'])]\n",
    "only_music.to_excel('output/only_music.xlsx')"
   ]
  },
  {
   "cell_type": "code",
   "execution_count": 13,
   "metadata": {},
   "outputs": [],
   "source": [
    "itunes_df['Seconds'] = itunes_df['Milliseconds'] / 1000"
   ]
  },
  {
   "cell_type": "code",
   "execution_count": 14,
   "metadata": {},
   "outputs": [
    {
     "data": {
      "text/plain": [
       "0    498868.875\n",
       "1    295444.000\n",
       "2    155428.000\n",
       "3    498868.875\n",
       "4    231993.000\n",
       "Name: Milliseconds, dtype: float64"
      ]
     },
     "execution_count": 14,
     "metadata": {},
     "output_type": "execute_result"
    }
   ],
   "source": [
    "def remove_outliers(df, column):\n",
    "  q1 = df[column].quantile(0.25)\n",
    "  q3 = df[column].quantile(0.75)\n",
    "  iqr = q3 - q1\n",
    "  upper_boundary = q3 + 1.5 * iqr\n",
    "  lower_boundary = q1 - 1.5 * iqr\n",
    "  new_df = df[column].clip(lower =lower_boundary, upper=upper_boundary)\n",
    "  return new_df\n",
    "\n",
    "itunes_df_clean = remove_outliers(itunes_df, 'Milliseconds')\n",
    "itunes_df_clean.head()"
   ]
  },
  {
   "cell_type": "code",
   "execution_count": 15,
   "metadata": {},
   "outputs": [
    {
     "data": {
      "text/plain": [
       "np.int64(3577)"
      ]
     },
     "execution_count": 15,
     "metadata": {},
     "output_type": "execute_result"
    }
   ],
   "source": [
    "itunes_df_clean.duplicated().sum()"
   ]
  },
  {
   "cell_type": "code",
   "execution_count": 16,
   "metadata": {},
   "outputs": [
    {
     "data": {
      "text/plain": [
       "np.int64(0)"
      ]
     },
     "execution_count": 16,
     "metadata": {},
     "output_type": "execute_result"
    }
   ],
   "source": [
    "itunes_df_clean.drop_duplicates(inplace=True)\n",
    "itunes_df_clean.duplicated().sum()"
   ]
  },
  {
   "cell_type": "markdown",
   "metadata": {},
   "source": [
    "### save the cleaned dataset in an excel file "
   ]
  },
  {
   "cell_type": "code",
   "execution_count": 17,
   "metadata": {},
   "outputs": [],
   "source": [
    "itunes_df_clean.to_excel('output/cleaned_itunes.xlsx')"
   ]
  },
  {
   "cell_type": "markdown",
   "metadata": {},
   "source": [
    "## Challenge 3: Ingesting, Wrangling and Analyzing Bitcoin price data\n",
    "\n",
    "\n",
    "You have just joined a financial company as a new data scientist. The company is  interested in the Bitcon market and you are working with a team that aims to ingest data and then clean, and analyse the final dataset to be used later to build and evaluate machine learning models for Bitcon Price forecasting.\n",
    "\n",
    "The company is working with two datasets coming from two different sources and is only interested in the `BTCUSD` currency: \n",
    "1. One dataset is json file locally existed in the data folder: `bitcoin_price.json`. This file contains data up to `2020-11-27`\n",
    "2. The other uses a real time data flow that comes from yahoo finance api service. The company wants to collect real time data beginning from `2020-11-28` to `2022-10-31`.\n",
    "\n",
    "You are asked to do the required checklist procedures and operations to load, clean, and analyse, and then deliver your results to the executive team with providing a short summaray of your prelimanary EDA work from pandas and save the cleaner dataset as a new csv file. \n",
    "Note that the \n"
   ]
  },
  {
   "cell_type": "code",
   "execution_count": 18,
   "metadata": {},
   "outputs": [
    {
     "data": {
      "text/html": [
       "<div>\n",
       "<style scoped>\n",
       "    .dataframe tbody tr th:only-of-type {\n",
       "        vertical-align: middle;\n",
       "    }\n",
       "\n",
       "    .dataframe tbody tr th {\n",
       "        vertical-align: top;\n",
       "    }\n",
       "\n",
       "    .dataframe thead th {\n",
       "        text-align: right;\n",
       "    }\n",
       "</style>\n",
       "<table border=\"1\" class=\"dataframe\">\n",
       "  <thead>\n",
       "    <tr style=\"text-align: right;\">\n",
       "      <th></th>\n",
       "      <th>symbol</th>\n",
       "      <th>time</th>\n",
       "      <th>open</th>\n",
       "      <th>close</th>\n",
       "      <th>high</th>\n",
       "      <th>low</th>\n",
       "      <th>volume</th>\n",
       "    </tr>\n",
       "  </thead>\n",
       "  <tbody>\n",
       "    <tr>\n",
       "      <th>0</th>\n",
       "      <td>btcusd</td>\n",
       "      <td>1364688000000</td>\n",
       "      <td>92.500000</td>\n",
       "      <td>93.033000</td>\n",
       "      <td>93.74999</td>\n",
       "      <td>91.00000</td>\n",
       "      <td>3083.079791</td>\n",
       "    </tr>\n",
       "    <tr>\n",
       "      <th>1</th>\n",
       "      <td>btcusd</td>\n",
       "      <td>1364774400000</td>\n",
       "      <td>93.250000</td>\n",
       "      <td>103.999000</td>\n",
       "      <td>105.90000</td>\n",
       "      <td>92.49999</td>\n",
       "      <td>5224.401313</td>\n",
       "    </tr>\n",
       "    <tr>\n",
       "      <th>2</th>\n",
       "      <td>btcusd</td>\n",
       "      <td>1364860800000</td>\n",
       "      <td>104.000000</td>\n",
       "      <td>118.229354</td>\n",
       "      <td>118.38670</td>\n",
       "      <td>99.00000</td>\n",
       "      <td>8376.527478</td>\n",
       "    </tr>\n",
       "    <tr>\n",
       "      <th>3</th>\n",
       "      <td>btcusd</td>\n",
       "      <td>1364947200000</td>\n",
       "      <td>117.958261</td>\n",
       "      <td>134.700000</td>\n",
       "      <td>146.88000</td>\n",
       "      <td>101.51088</td>\n",
       "      <td>12996.245072</td>\n",
       "    </tr>\n",
       "    <tr>\n",
       "      <th>4</th>\n",
       "      <td>btcusd</td>\n",
       "      <td>1365033600000</td>\n",
       "      <td>134.716560</td>\n",
       "      <td>132.899000</td>\n",
       "      <td>143.00000</td>\n",
       "      <td>119.00000</td>\n",
       "      <td>6981.668305</td>\n",
       "    </tr>\n",
       "  </tbody>\n",
       "</table>\n",
       "</div>"
      ],
      "text/plain": [
       "   symbol           time        open       close       high        low  \\\n",
       "0  btcusd  1364688000000   92.500000   93.033000   93.74999   91.00000   \n",
       "1  btcusd  1364774400000   93.250000  103.999000  105.90000   92.49999   \n",
       "2  btcusd  1364860800000  104.000000  118.229354  118.38670   99.00000   \n",
       "3  btcusd  1364947200000  117.958261  134.700000  146.88000  101.51088   \n",
       "4  btcusd  1365033600000  134.716560  132.899000  143.00000  119.00000   \n",
       "\n",
       "         volume  \n",
       "0   3083.079791  \n",
       "1   5224.401313  \n",
       "2   8376.527478  \n",
       "3  12996.245072  \n",
       "4   6981.668305  "
      ]
     },
     "execution_count": 18,
     "metadata": {},
     "output_type": "execute_result"
    }
   ],
   "source": [
    "import json\n",
    "\n",
    "with open('data/bitcoin_price.json') as f:\n",
    "    data = json.load(f)\n",
    "\n",
    "btc_df_jsn=pd.DataFrame.from_dict(data)\n",
    "btc_df_jsn.head()"
   ]
  },
  {
   "cell_type": "code",
   "execution_count": 19,
   "metadata": {},
   "outputs": [
    {
     "name": "stderr",
     "output_type": "stream",
     "text": [
      "[*********************100%***********************]  1 of 1 completed\n"
     ]
    },
    {
     "data": {
      "text/html": [
       "<div>\n",
       "<style scoped>\n",
       "    .dataframe tbody tr th:only-of-type {\n",
       "        vertical-align: middle;\n",
       "    }\n",
       "\n",
       "    .dataframe tbody tr th {\n",
       "        vertical-align: top;\n",
       "    }\n",
       "\n",
       "    .dataframe thead tr th {\n",
       "        text-align: left;\n",
       "    }\n",
       "\n",
       "    .dataframe thead tr:last-of-type th {\n",
       "        text-align: right;\n",
       "    }\n",
       "</style>\n",
       "<table border=\"1\" class=\"dataframe\">\n",
       "  <thead>\n",
       "    <tr>\n",
       "      <th>Price</th>\n",
       "      <th>Adj Close</th>\n",
       "      <th>Close</th>\n",
       "      <th>High</th>\n",
       "      <th>Low</th>\n",
       "      <th>Open</th>\n",
       "      <th>Volume</th>\n",
       "    </tr>\n",
       "    <tr>\n",
       "      <th>Ticker</th>\n",
       "      <th>BTC-USD</th>\n",
       "      <th>BTC-USD</th>\n",
       "      <th>BTC-USD</th>\n",
       "      <th>BTC-USD</th>\n",
       "      <th>BTC-USD</th>\n",
       "      <th>BTC-USD</th>\n",
       "    </tr>\n",
       "    <tr>\n",
       "      <th>Date</th>\n",
       "      <th></th>\n",
       "      <th></th>\n",
       "      <th></th>\n",
       "      <th></th>\n",
       "      <th></th>\n",
       "      <th></th>\n",
       "    </tr>\n",
       "  </thead>\n",
       "  <tbody>\n",
       "    <tr>\n",
       "      <th>2020-11-28 00:00:00+00:00</th>\n",
       "      <td>17717.414062</td>\n",
       "      <td>17717.414062</td>\n",
       "      <td>17853.939453</td>\n",
       "      <td>16910.652344</td>\n",
       "      <td>17112.933594</td>\n",
       "      <td>32601040734</td>\n",
       "    </tr>\n",
       "    <tr>\n",
       "      <th>2020-11-29 00:00:00+00:00</th>\n",
       "      <td>18177.484375</td>\n",
       "      <td>18177.484375</td>\n",
       "      <td>18283.628906</td>\n",
       "      <td>17559.117188</td>\n",
       "      <td>17719.634766</td>\n",
       "      <td>31133957704</td>\n",
       "    </tr>\n",
       "    <tr>\n",
       "      <th>2020-11-30 00:00:00+00:00</th>\n",
       "      <td>19625.835938</td>\n",
       "      <td>19625.835938</td>\n",
       "      <td>19749.263672</td>\n",
       "      <td>18178.322266</td>\n",
       "      <td>18178.322266</td>\n",
       "      <td>47728480399</td>\n",
       "    </tr>\n",
       "    <tr>\n",
       "      <th>2020-12-01 00:00:00+00:00</th>\n",
       "      <td>18802.998047</td>\n",
       "      <td>18802.998047</td>\n",
       "      <td>19845.974609</td>\n",
       "      <td>18321.921875</td>\n",
       "      <td>19633.769531</td>\n",
       "      <td>49633658712</td>\n",
       "    </tr>\n",
       "    <tr>\n",
       "      <th>2020-12-02 00:00:00+00:00</th>\n",
       "      <td>19201.091797</td>\n",
       "      <td>19201.091797</td>\n",
       "      <td>19308.330078</td>\n",
       "      <td>18347.718750</td>\n",
       "      <td>18801.744141</td>\n",
       "      <td>37387697139</td>\n",
       "    </tr>\n",
       "  </tbody>\n",
       "</table>\n",
       "</div>"
      ],
      "text/plain": [
       "Price                         Adj Close         Close          High  \\\n",
       "Ticker                          BTC-USD       BTC-USD       BTC-USD   \n",
       "Date                                                                  \n",
       "2020-11-28 00:00:00+00:00  17717.414062  17717.414062  17853.939453   \n",
       "2020-11-29 00:00:00+00:00  18177.484375  18177.484375  18283.628906   \n",
       "2020-11-30 00:00:00+00:00  19625.835938  19625.835938  19749.263672   \n",
       "2020-12-01 00:00:00+00:00  18802.998047  18802.998047  19845.974609   \n",
       "2020-12-02 00:00:00+00:00  19201.091797  19201.091797  19308.330078   \n",
       "\n",
       "Price                               Low          Open       Volume  \n",
       "Ticker                          BTC-USD       BTC-USD      BTC-USD  \n",
       "Date                                                                \n",
       "2020-11-28 00:00:00+00:00  16910.652344  17112.933594  32601040734  \n",
       "2020-11-29 00:00:00+00:00  17559.117188  17719.634766  31133957704  \n",
       "2020-11-30 00:00:00+00:00  18178.322266  18178.322266  47728480399  \n",
       "2020-12-01 00:00:00+00:00  18321.921875  19633.769531  49633658712  \n",
       "2020-12-02 00:00:00+00:00  18347.718750  18801.744141  37387697139  "
      ]
     },
     "execution_count": 19,
     "metadata": {},
     "output_type": "execute_result"
    }
   ],
   "source": [
    "import yfinance as yf\n",
    "\n",
    "btc_yf_df = yf.download('BTC-USD', start='2020-11-28', end='2022-10-31', interval='1d')\n",
    "\n",
    "btc_yf_df.head()"
   ]
  },
  {
   "cell_type": "code",
   "execution_count": 20,
   "metadata": {},
   "outputs": [],
   "source": [
    "btc_df_jsn.rename(columns={'time': 'Date'}, inplace=True)\n",
    "btc_df_jsn['Date'] = pd.to_datetime(btc_df_jsn['Date'], unit='ms')\n",
    "btc_df_jsn.set_index('Date', inplace=True)\n"
   ]
  },
  {
   "cell_type": "code",
   "execution_count": 21,
   "metadata": {},
   "outputs": [
    {
     "data": {
      "text/html": [
       "<div>\n",
       "<style scoped>\n",
       "    .dataframe tbody tr th:only-of-type {\n",
       "        vertical-align: middle;\n",
       "    }\n",
       "\n",
       "    .dataframe tbody tr th {\n",
       "        vertical-align: top;\n",
       "    }\n",
       "\n",
       "    .dataframe thead th {\n",
       "        text-align: right;\n",
       "    }\n",
       "</style>\n",
       "<table border=\"1\" class=\"dataframe\">\n",
       "  <thead>\n",
       "    <tr style=\"text-align: right;\">\n",
       "      <th></th>\n",
       "      <th>symbol</th>\n",
       "      <th>open</th>\n",
       "      <th>close</th>\n",
       "      <th>high</th>\n",
       "      <th>low</th>\n",
       "      <th>volume</th>\n",
       "    </tr>\n",
       "    <tr>\n",
       "      <th>Date</th>\n",
       "      <th></th>\n",
       "      <th></th>\n",
       "      <th></th>\n",
       "      <th></th>\n",
       "      <th></th>\n",
       "      <th></th>\n",
       "    </tr>\n",
       "  </thead>\n",
       "  <tbody>\n",
       "    <tr>\n",
       "      <th>2013-03-31</th>\n",
       "      <td>btcusd</td>\n",
       "      <td>92.500000</td>\n",
       "      <td>93.033000</td>\n",
       "      <td>93.74999</td>\n",
       "      <td>91.00000</td>\n",
       "      <td>3083.079791</td>\n",
       "    </tr>\n",
       "    <tr>\n",
       "      <th>2013-04-01</th>\n",
       "      <td>btcusd</td>\n",
       "      <td>93.250000</td>\n",
       "      <td>103.999000</td>\n",
       "      <td>105.90000</td>\n",
       "      <td>92.49999</td>\n",
       "      <td>5224.401313</td>\n",
       "    </tr>\n",
       "    <tr>\n",
       "      <th>2013-04-02</th>\n",
       "      <td>btcusd</td>\n",
       "      <td>104.000000</td>\n",
       "      <td>118.229354</td>\n",
       "      <td>118.38670</td>\n",
       "      <td>99.00000</td>\n",
       "      <td>8376.527478</td>\n",
       "    </tr>\n",
       "    <tr>\n",
       "      <th>2013-04-03</th>\n",
       "      <td>btcusd</td>\n",
       "      <td>117.958261</td>\n",
       "      <td>134.700000</td>\n",
       "      <td>146.88000</td>\n",
       "      <td>101.51088</td>\n",
       "      <td>12996.245072</td>\n",
       "    </tr>\n",
       "    <tr>\n",
       "      <th>2013-04-04</th>\n",
       "      <td>btcusd</td>\n",
       "      <td>134.716560</td>\n",
       "      <td>132.899000</td>\n",
       "      <td>143.00000</td>\n",
       "      <td>119.00000</td>\n",
       "      <td>6981.668305</td>\n",
       "    </tr>\n",
       "  </tbody>\n",
       "</table>\n",
       "</div>"
      ],
      "text/plain": [
       "            symbol        open       close       high        low        volume\n",
       "Date                                                                          \n",
       "2013-03-31  btcusd   92.500000   93.033000   93.74999   91.00000   3083.079791\n",
       "2013-04-01  btcusd   93.250000  103.999000  105.90000   92.49999   5224.401313\n",
       "2013-04-02  btcusd  104.000000  118.229354  118.38670   99.00000   8376.527478\n",
       "2013-04-03  btcusd  117.958261  134.700000  146.88000  101.51088  12996.245072\n",
       "2013-04-04  btcusd  134.716560  132.899000  143.00000  119.00000   6981.668305"
      ]
     },
     "execution_count": 21,
     "metadata": {},
     "output_type": "execute_result"
    }
   ],
   "source": [
    "btc_df_jsn.head()\n"
   ]
  },
  {
   "cell_type": "code",
   "execution_count": 22,
   "metadata": {},
   "outputs": [
    {
     "data": {
      "text/html": [
       "<div>\n",
       "<style scoped>\n",
       "    .dataframe tbody tr th:only-of-type {\n",
       "        vertical-align: middle;\n",
       "    }\n",
       "\n",
       "    .dataframe tbody tr th {\n",
       "        vertical-align: top;\n",
       "    }\n",
       "\n",
       "    .dataframe thead tr th {\n",
       "        text-align: left;\n",
       "    }\n",
       "\n",
       "    .dataframe thead tr:last-of-type th {\n",
       "        text-align: right;\n",
       "    }\n",
       "</style>\n",
       "<table border=\"1\" class=\"dataframe\">\n",
       "  <thead>\n",
       "    <tr>\n",
       "      <th>Price</th>\n",
       "      <th>Adj Close</th>\n",
       "      <th>Close</th>\n",
       "      <th>High</th>\n",
       "      <th>Low</th>\n",
       "      <th>Open</th>\n",
       "      <th>Volume</th>\n",
       "    </tr>\n",
       "    <tr>\n",
       "      <th>Ticker</th>\n",
       "      <th>BTC-USD</th>\n",
       "      <th>BTC-USD</th>\n",
       "      <th>BTC-USD</th>\n",
       "      <th>BTC-USD</th>\n",
       "      <th>BTC-USD</th>\n",
       "      <th>BTC-USD</th>\n",
       "    </tr>\n",
       "    <tr>\n",
       "      <th>Date</th>\n",
       "      <th></th>\n",
       "      <th></th>\n",
       "      <th></th>\n",
       "      <th></th>\n",
       "      <th></th>\n",
       "      <th></th>\n",
       "    </tr>\n",
       "  </thead>\n",
       "  <tbody>\n",
       "    <tr>\n",
       "      <th>2020-11-28 00:00:00+00:00</th>\n",
       "      <td>17717.414062</td>\n",
       "      <td>17717.414062</td>\n",
       "      <td>17853.939453</td>\n",
       "      <td>16910.652344</td>\n",
       "      <td>17112.933594</td>\n",
       "      <td>32601040734</td>\n",
       "    </tr>\n",
       "    <tr>\n",
       "      <th>2020-11-29 00:00:00+00:00</th>\n",
       "      <td>18177.484375</td>\n",
       "      <td>18177.484375</td>\n",
       "      <td>18283.628906</td>\n",
       "      <td>17559.117188</td>\n",
       "      <td>17719.634766</td>\n",
       "      <td>31133957704</td>\n",
       "    </tr>\n",
       "    <tr>\n",
       "      <th>2020-11-30 00:00:00+00:00</th>\n",
       "      <td>19625.835938</td>\n",
       "      <td>19625.835938</td>\n",
       "      <td>19749.263672</td>\n",
       "      <td>18178.322266</td>\n",
       "      <td>18178.322266</td>\n",
       "      <td>47728480399</td>\n",
       "    </tr>\n",
       "    <tr>\n",
       "      <th>2020-12-01 00:00:00+00:00</th>\n",
       "      <td>18802.998047</td>\n",
       "      <td>18802.998047</td>\n",
       "      <td>19845.974609</td>\n",
       "      <td>18321.921875</td>\n",
       "      <td>19633.769531</td>\n",
       "      <td>49633658712</td>\n",
       "    </tr>\n",
       "    <tr>\n",
       "      <th>2020-12-02 00:00:00+00:00</th>\n",
       "      <td>19201.091797</td>\n",
       "      <td>19201.091797</td>\n",
       "      <td>19308.330078</td>\n",
       "      <td>18347.718750</td>\n",
       "      <td>18801.744141</td>\n",
       "      <td>37387697139</td>\n",
       "    </tr>\n",
       "  </tbody>\n",
       "</table>\n",
       "</div>"
      ],
      "text/plain": [
       "Price                         Adj Close         Close          High  \\\n",
       "Ticker                          BTC-USD       BTC-USD       BTC-USD   \n",
       "Date                                                                  \n",
       "2020-11-28 00:00:00+00:00  17717.414062  17717.414062  17853.939453   \n",
       "2020-11-29 00:00:00+00:00  18177.484375  18177.484375  18283.628906   \n",
       "2020-11-30 00:00:00+00:00  19625.835938  19625.835938  19749.263672   \n",
       "2020-12-01 00:00:00+00:00  18802.998047  18802.998047  19845.974609   \n",
       "2020-12-02 00:00:00+00:00  19201.091797  19201.091797  19308.330078   \n",
       "\n",
       "Price                               Low          Open       Volume  \n",
       "Ticker                          BTC-USD       BTC-USD      BTC-USD  \n",
       "Date                                                                \n",
       "2020-11-28 00:00:00+00:00  16910.652344  17112.933594  32601040734  \n",
       "2020-11-29 00:00:00+00:00  17559.117188  17719.634766  31133957704  \n",
       "2020-11-30 00:00:00+00:00  18178.322266  18178.322266  47728480399  \n",
       "2020-12-01 00:00:00+00:00  18321.921875  19633.769531  49633658712  \n",
       "2020-12-02 00:00:00+00:00  18347.718750  18801.744141  37387697139  "
      ]
     },
     "execution_count": 22,
     "metadata": {},
     "output_type": "execute_result"
    }
   ],
   "source": [
    "btc_yf_df.head()"
   ]
  },
  {
   "cell_type": "markdown",
   "metadata": {},
   "source": [
    "### Concatenate the DataFrames"
   ]
  },
  {
   "cell_type": "code",
   "execution_count": 23,
   "metadata": {},
   "outputs": [
    {
     "data": {
      "text/html": [
       "<div>\n",
       "<style scoped>\n",
       "    .dataframe tbody tr th:only-of-type {\n",
       "        vertical-align: middle;\n",
       "    }\n",
       "\n",
       "    .dataframe tbody tr th {\n",
       "        vertical-align: top;\n",
       "    }\n",
       "\n",
       "    .dataframe thead th {\n",
       "        text-align: right;\n",
       "    }\n",
       "</style>\n",
       "<table border=\"1\" class=\"dataframe\">\n",
       "  <thead>\n",
       "    <tr style=\"text-align: right;\">\n",
       "      <th></th>\n",
       "      <th>symbol</th>\n",
       "      <th>open</th>\n",
       "      <th>close</th>\n",
       "      <th>high</th>\n",
       "      <th>low</th>\n",
       "      <th>volume</th>\n",
       "      <th>(Adj Close, BTC-USD)</th>\n",
       "      <th>(Close, BTC-USD)</th>\n",
       "      <th>(High, BTC-USD)</th>\n",
       "      <th>(Low, BTC-USD)</th>\n",
       "      <th>(Open, BTC-USD)</th>\n",
       "      <th>(Volume, BTC-USD)</th>\n",
       "    </tr>\n",
       "    <tr>\n",
       "      <th>Date</th>\n",
       "      <th></th>\n",
       "      <th></th>\n",
       "      <th></th>\n",
       "      <th></th>\n",
       "      <th></th>\n",
       "      <th></th>\n",
       "      <th></th>\n",
       "      <th></th>\n",
       "      <th></th>\n",
       "      <th></th>\n",
       "      <th></th>\n",
       "      <th></th>\n",
       "    </tr>\n",
       "  </thead>\n",
       "  <tbody>\n",
       "    <tr>\n",
       "      <th>2013-03-31 00:00:00</th>\n",
       "      <td>btcusd</td>\n",
       "      <td>92.500000</td>\n",
       "      <td>93.033000</td>\n",
       "      <td>93.74999</td>\n",
       "      <td>91.00000</td>\n",
       "      <td>3083.079791</td>\n",
       "      <td>NaN</td>\n",
       "      <td>NaN</td>\n",
       "      <td>NaN</td>\n",
       "      <td>NaN</td>\n",
       "      <td>NaN</td>\n",
       "      <td>NaN</td>\n",
       "    </tr>\n",
       "    <tr>\n",
       "      <th>2013-04-01 00:00:00</th>\n",
       "      <td>btcusd</td>\n",
       "      <td>93.250000</td>\n",
       "      <td>103.999000</td>\n",
       "      <td>105.90000</td>\n",
       "      <td>92.49999</td>\n",
       "      <td>5224.401313</td>\n",
       "      <td>NaN</td>\n",
       "      <td>NaN</td>\n",
       "      <td>NaN</td>\n",
       "      <td>NaN</td>\n",
       "      <td>NaN</td>\n",
       "      <td>NaN</td>\n",
       "    </tr>\n",
       "    <tr>\n",
       "      <th>2013-04-02 00:00:00</th>\n",
       "      <td>btcusd</td>\n",
       "      <td>104.000000</td>\n",
       "      <td>118.229354</td>\n",
       "      <td>118.38670</td>\n",
       "      <td>99.00000</td>\n",
       "      <td>8376.527478</td>\n",
       "      <td>NaN</td>\n",
       "      <td>NaN</td>\n",
       "      <td>NaN</td>\n",
       "      <td>NaN</td>\n",
       "      <td>NaN</td>\n",
       "      <td>NaN</td>\n",
       "    </tr>\n",
       "    <tr>\n",
       "      <th>2013-04-03 00:00:00</th>\n",
       "      <td>btcusd</td>\n",
       "      <td>117.958261</td>\n",
       "      <td>134.700000</td>\n",
       "      <td>146.88000</td>\n",
       "      <td>101.51088</td>\n",
       "      <td>12996.245072</td>\n",
       "      <td>NaN</td>\n",
       "      <td>NaN</td>\n",
       "      <td>NaN</td>\n",
       "      <td>NaN</td>\n",
       "      <td>NaN</td>\n",
       "      <td>NaN</td>\n",
       "    </tr>\n",
       "    <tr>\n",
       "      <th>2013-04-04 00:00:00</th>\n",
       "      <td>btcusd</td>\n",
       "      <td>134.716560</td>\n",
       "      <td>132.899000</td>\n",
       "      <td>143.00000</td>\n",
       "      <td>119.00000</td>\n",
       "      <td>6981.668305</td>\n",
       "      <td>NaN</td>\n",
       "      <td>NaN</td>\n",
       "      <td>NaN</td>\n",
       "      <td>NaN</td>\n",
       "      <td>NaN</td>\n",
       "      <td>NaN</td>\n",
       "    </tr>\n",
       "  </tbody>\n",
       "</table>\n",
       "</div>"
      ],
      "text/plain": [
       "                     symbol        open       close       high        low  \\\n",
       "Date                                                                        \n",
       "2013-03-31 00:00:00  btcusd   92.500000   93.033000   93.74999   91.00000   \n",
       "2013-04-01 00:00:00  btcusd   93.250000  103.999000  105.90000   92.49999   \n",
       "2013-04-02 00:00:00  btcusd  104.000000  118.229354  118.38670   99.00000   \n",
       "2013-04-03 00:00:00  btcusd  117.958261  134.700000  146.88000  101.51088   \n",
       "2013-04-04 00:00:00  btcusd  134.716560  132.899000  143.00000  119.00000   \n",
       "\n",
       "                           volume  (Adj Close, BTC-USD)  (Close, BTC-USD)  \\\n",
       "Date                                                                        \n",
       "2013-03-31 00:00:00   3083.079791                   NaN               NaN   \n",
       "2013-04-01 00:00:00   5224.401313                   NaN               NaN   \n",
       "2013-04-02 00:00:00   8376.527478                   NaN               NaN   \n",
       "2013-04-03 00:00:00  12996.245072                   NaN               NaN   \n",
       "2013-04-04 00:00:00   6981.668305                   NaN               NaN   \n",
       "\n",
       "                     (High, BTC-USD)  (Low, BTC-USD)  (Open, BTC-USD)  \\\n",
       "Date                                                                    \n",
       "2013-03-31 00:00:00              NaN             NaN              NaN   \n",
       "2013-04-01 00:00:00              NaN             NaN              NaN   \n",
       "2013-04-02 00:00:00              NaN             NaN              NaN   \n",
       "2013-04-03 00:00:00              NaN             NaN              NaN   \n",
       "2013-04-04 00:00:00              NaN             NaN              NaN   \n",
       "\n",
       "                     (Volume, BTC-USD)  \n",
       "Date                                    \n",
       "2013-03-31 00:00:00                NaN  \n",
       "2013-04-01 00:00:00                NaN  \n",
       "2013-04-02 00:00:00                NaN  \n",
       "2013-04-03 00:00:00                NaN  \n",
       "2013-04-04 00:00:00                NaN  "
      ]
     },
     "execution_count": 23,
     "metadata": {},
     "output_type": "execute_result"
    }
   ],
   "source": [
    "btc_combined_df = pd.concat([btc_df_jsn, btc_yf_df])\n",
    "btc_combined_df.head()"
   ]
  },
  {
   "cell_type": "code",
   "execution_count": 24,
   "metadata": {},
   "outputs": [
    {
     "name": "stderr",
     "output_type": "stream",
     "text": [
      "c:\\Users\\ASUS\\OneDrive\\Bureau\\1Sem-2CS-IASD resources\\SEDS\\SEDS_Lab5\\myenv\\Lib\\site-packages\\matplotlib\\dates.py:449: UserWarning: no explicit representation of timezones available for np.datetime64\n",
      "  d = d.astype('datetime64[us]')\n",
      "c:\\Users\\ASUS\\OneDrive\\Bureau\\1Sem-2CS-IASD resources\\SEDS\\SEDS_Lab5\\myenv\\Lib\\site-packages\\matplotlib\\dates.py:449: UserWarning: no explicit representation of timezones available for np.datetime64\n",
      "  d = d.astype('datetime64[us]')\n",
      "c:\\Users\\ASUS\\OneDrive\\Bureau\\1Sem-2CS-IASD resources\\SEDS\\SEDS_Lab5\\myenv\\Lib\\site-packages\\matplotlib\\dates.py:449: UserWarning: no explicit representation of timezones available for np.datetime64\n",
      "  d = d.astype('datetime64[us]')\n",
      "c:\\Users\\ASUS\\OneDrive\\Bureau\\1Sem-2CS-IASD resources\\SEDS\\SEDS_Lab5\\myenv\\Lib\\site-packages\\matplotlib\\dates.py:449: UserWarning: no explicit representation of timezones available for np.datetime64\n",
      "  d = d.astype('datetime64[us]')\n",
      "c:\\Users\\ASUS\\OneDrive\\Bureau\\1Sem-2CS-IASD resources\\SEDS\\SEDS_Lab5\\myenv\\Lib\\site-packages\\matplotlib\\dates.py:449: UserWarning: no explicit representation of timezones available for np.datetime64\n",
      "  d = d.astype('datetime64[us]')\n"
     ]
    },
    {
     "data": {
      "image/png": "[encoded data removed]",
      "text/plain": [
       "<Figure size 1000x1200 with 5 Axes>"
      ]
     },
     "metadata": {},
     "output_type": "display_data"
    }
   ],
   "source": [
    "btc_combined_df[['open', 'close', 'high', 'low', 'volume']].plot(subplots=True, figsize=(10, 12), title=\"Bitcoin Time Series Data\")\n",
    "plt.show()"
   ]
  },
  {
   "cell_type": "code",
   "execution_count": 25,
   "metadata": {},
   "outputs": [
    {
     "name": "stdout",
     "output_type": "stream",
     "text": [
      "                          open     close      high       low    volume  \\\n",
      "open                  1.000000  0.998120  0.999020  0.998306  0.057938   \n",
      "close                 0.998120  1.000000  0.999100  0.998944  0.054514   \n",
      "high                  0.999020  0.999100  1.000000  0.997788  0.070796   \n",
      "low                   0.998306  0.998944  0.997788  1.000000  0.035311   \n",
      "volume                0.057938  0.054514  0.070796  0.035311  1.000000   \n",
      "(Adj Close, BTC-USD)       NaN       NaN       NaN       NaN       NaN   \n",
      "(Close, BTC-USD)           NaN       NaN       NaN       NaN       NaN   \n",
      "(High, BTC-USD)            NaN       NaN       NaN       NaN       NaN   \n",
      "(Low, BTC-USD)             NaN       NaN       NaN       NaN       NaN   \n",
      "(Open, BTC-USD)            NaN       NaN       NaN       NaN       NaN   \n",
      "(Volume, BTC-USD)          NaN       NaN       NaN       NaN       NaN   \n",
      "\n",
      "                      (Adj Close, BTC-USD)  (Close, BTC-USD)  (High, BTC-USD)  \\\n",
      "open                                   NaN               NaN              NaN   \n",
      "close                                  NaN               NaN              NaN   \n",
      "high                                   NaN               NaN              NaN   \n",
      "low                                    NaN               NaN              NaN   \n",
      "volume                                 NaN               NaN              NaN   \n",
      "(Adj Close, BTC-USD)              1.000000          1.000000         0.996901   \n",
      "(Close, BTC-USD)                  1.000000          1.000000         0.996901   \n",
      "(High, BTC-USD)                   0.996901          0.996901         1.000000   \n",
      "(Low, BTC-USD)                    0.996408          0.996408         0.994519   \n",
      "(Open, BTC-USD)                   0.993017          0.993017         0.997285   \n",
      "(Volume, BTC-USD)                 0.227396          0.227396         0.252474   \n",
      "\n",
      "                      (Low, BTC-USD)  (Open, BTC-USD)  (Volume, BTC-USD)  \n",
      "open                             NaN              NaN                NaN  \n",
      "close                            NaN              NaN                NaN  \n",
      "high                             NaN              NaN                NaN  \n",
      "low                              NaN              NaN                NaN  \n",
      "volume                           NaN              NaN                NaN  \n",
      "(Adj Close, BTC-USD)        0.996408         0.993017           0.227396  \n",
      "(Close, BTC-USD)            0.996408         0.993017           0.227396  \n",
      "(High, BTC-USD)             0.994519         0.997285           0.252474  \n",
      "(Low, BTC-USD)              1.000000         0.994856           0.194816  \n",
      "(Open, BTC-USD)             0.994856         1.000000           0.234768  \n",
      "(Volume, BTC-USD)           0.194816         0.234768           1.000000  \n"
     ]
    }
   ],
   "source": [
    "correlation_matrix = btc_combined_df.select_dtypes(include=['float64', 'int64']).corr()\n",
    "print(correlation_matrix)\n"
   ]
  },
  {
   "cell_type": "code",
   "execution_count": 26,
   "metadata": {},
   "outputs": [
    {
     "data": {
      "text/plain": [
       "symbol                   702\n",
       "open                     702\n",
       "close                    702\n",
       "high                     702\n",
       "low                      702\n",
       "volume                   702\n",
       "(Adj Close, BTC-USD)    2793\n",
       "(Close, BTC-USD)        2793\n",
       "(High, BTC-USD)         2793\n",
       "(Low, BTC-USD)          2793\n",
       "(Open, BTC-USD)         2793\n",
       "(Volume, BTC-USD)       2793\n",
       "dtype: int64"
      ]
     },
     "execution_count": 26,
     "metadata": {},
     "output_type": "execute_result"
    }
   ],
   "source": [
    "btc_combined_df.isna().sum()"
   ]
  },
  {
   "cell_type": "code",
   "execution_count": 30,
   "metadata": {},
   "outputs": [
    {
     "name": "stderr",
     "output_type": "stream",
     "text": [
      "C:\\Users\\ASUS\\AppData\\Local\\Temp\\ipykernel_6316\\1160490180.py:1: FutureWarning: A value is trying to be set on a copy of a DataFrame or Series through chained assignment using an inplace method.\n",
      "The behavior will change in pandas 3.0. This inplace method will never work because the intermediate object on which we are setting values always behaves as a copy.\n",
      "\n",
      "For example, when doing 'df[col].method(value, inplace=True)', try using 'df.method({col: value}, inplace=True)' or df[col] = df[col].method(value) instead, to perform the operation inplace on the original object.\n",
      "\n",
      "\n",
      "  btc_combined_df['symbol'].fillna(btc_combined_df['symbol'].value_counts().index[0], inplace=True)\n"
     ]
    }
   ],
   "source": [
    "btc_combined_df['symbol'].fillna(btc_combined_df['symbol'].value_counts().index[0], inplace=True)"
   ]
  },
  {
   "cell_type": "code",
   "execution_count": 29,
   "metadata": {},
   "outputs": [
    {
     "data": {
      "image/png": "[encoded data removed]",
      "text/plain": [
       "<Figure size 640x480 with 1 Axes>"
      ]
     },
     "metadata": {},
     "output_type": "display_data"
    }
   ],
   "source": [
    "btc_combined_df['low'][::150].plot.bar()\n",
    "plt.show()"
   ]
  },
  {
   "cell_type": "markdown",
   "metadata": {},
   "source": [
    "\n",
    "`Hint:`\n",
    "\n",
    "1. To load a json file into a dataframe use the snipet code below:\n",
    "\n",
    "```python\n",
    "import json\n",
    "\n",
    "with open('<path_to_your_json_file>') as f:\n",
    "    data = json.load(f)\n",
    "\n",
    "btc_df_jsn=pd.DataFrame.from_dict(data)\n",
    "```\n",
    "\n",
    "This code uses the `json` built-in python module to open a json file and load it in an object data. Then we use the `from_dict()` pandas method to transform the json data into a DataFrame.\n",
    "\n",
    "2. To get real time data flow from the yahoo finance api sevice we will use the `yfinance` module. \n",
    "    * So, first install the module in your environment using  `conda install yfinance`.\n",
    "    * Then use the code below to get real data. Test with the periode from `2020-01-01` to `2024-10-31`.\n",
    "\n",
    "```python\n",
    "import yfinance as yf\n",
    "\n",
    "btc_yf_df = yf.download('BTC-USD', # The currency we are intersted in\n",
    "                   start='<start_date>', # The starting date\n",
    "                   end='<end_date>', # The starting date\n",
    "                   interval='1d' # The frequency of collecting the data. here 1 day\n",
    "                  )\n",
    "```\n",
    "\n",
    "3. Get a look of the two DataFrames and see what are the common columns and what differ one to another.\n",
    "\n",
    "    * You will notice that the  json DataFrame is indexed numericaly wherease the yahoo DataFrame is indexed by Date. So, you have to uniform the index for both DataFrames. In this case we will change the json DataFrame  index by Date.\n",
    "        1. To do that, first rename the column `time` to `Date` by using the built-in pandas method: `rename()` as follows:\n",
    "\t\n",
    "        \n",
    "        ```python\n",
    "        rename(columns ={'<old_col_name>':'<new_col_name>'}, inplace = True)\n",
    "         ```\n",
    "         \n",
    "        2. What is the datatype of the new Date column in the json DataFrame?\n",
    "            * You will notice that it is a `datetime64[ns]` datatype, which means the number of seconds since 1-1-1970. To make it date fomat like the yahoo DataFrame, convert the column to a pandas datetime datatype by using the following code: \n",
    "         \n",
    "          ```python\n",
    "         btc_df['<column_name>'] = pd.to_datetime(btc_df['<column_name>'], unit='ms')\n",
    "          ```\n",
    "         \n",
    "        3. To change the index of your dataframe use the `set_index` built-in pandas function:\n",
    "        ```python\n",
    "        set_index('<column_name>', inplace=True)\n",
    "        ```\n",
    "            * The remaining common columns labels in both DataFrames are not uniformed. The json DataFrame uses lowercase strings,  while the yahoo DataFrame uses a first letter world uppercase string.\n",
    "                  1. Change the column labels of the yahoo DataFrame to lowercase strings. Adjust the following code accordingly:\n",
    "             ```python\n",
    "                data_frame.columns= data_frame.columns.str.lower()\n",
    "             ```\n",
    "             \n",
    "4. Concatenate the two dataframe into one dataset.\n",
    "5. Do The basic EDA cheklist procedures on the resulting dataset:\n",
    "   * Do few time series plots: \n",
    "       * open, close, high, low, volume with regards to Date\n",
    "   * Print the correlation matrix.\n",
    "6. Do the General Data Cleaning Checklist operations to see if ther is still cleaning operations to accomplish.\n",
    "    * Most particularly, you will notice a NaN values in both `adj close` and `symbole` columns. What is your suggestion to deal with this missing values given that the company is not interest at all on the `adj close` data. \t\n",
    "7. Save your cleaner dataframe into a csv file.\n",
    "    * Use the `pandas.DataFrame.to_csv` method.\n",
    "             "
   ]
  }
 ],
 "metadata": {
  "anaconda-cloud": {},
  "kernelspec": {
   "display_name": "myenv",
   "language": "python",
   "name": "python3"
  },
  "language_info": {
   "codemirror_mode": {
    "name": "ipython",
    "version": 3
   },
   "file_extension": ".py",
   "mimetype": "text/x-python",
   "name": "python",
   "nbconvert_exporter": "python",
   "pygments_lexer": "ipython3",
   "version": "3.12.7"
  }
 },
 "nbformat": 4,
 "nbformat_minor": 2
}
